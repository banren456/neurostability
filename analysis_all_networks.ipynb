{
 "cells": [
  {
   "cell_type": "markdown",
   "metadata": {},
   "source": [
    "# Study of the stability of several G&CNETs at the same time\n",
    "\n",
    "In this notebook we define a dictionary with the filenames of several trained deep networks and we perform the stability analysis on all of them\n",
    "\n"
   ]
  },
  {
   "cell_type": "markdown",
   "metadata": {},
   "source": [
    "| Packages needed    | \n",
    "|----------|\n",
    "| scipy  | \n",
    "| numpy  | \n",
    "| matplotlib  | \n",
    "| pyaudi  |\n",
    "| pygmo  |\n",
    "| progressbar  |\n",
    "| control  |\n",
    "\n",
    "\n",
    "Can all be installed via pip  or conda package managers (tested in python 3.7)"
   ]
  },
  {
   "cell_type": "code",
   "execution_count": 1,
   "metadata": {},
   "outputs": [],
   "source": [
    "%matplotlib inline\n",
    "\n",
    "import pygmo as pg\n",
    "from pyquad import Controller, rkf45, rkf45_gduals\n",
    "import numpy as np\n",
    "from math import sin, cos, sqrt, tanh\n",
    "import progressbar\n",
    "\n",
    "import matplotlib.pyplot as plt\n",
    "from matplotlib import animation, rc\n",
    "from IPython.display import HTML\n",
    "\n",
    "g0 = 9.81 # m/s2\n",
    "m = 0.38905 # kg\n",
    "T_max = 9.1 # N\n",
    "theta_max = 35 # rad/sec\n",
    "\n"
   ]
  },
  {
   "cell_type": "markdown",
   "metadata": {},
   "source": [
    "### 1 - Find the exact equilibrium point\n",
    "We shift the reference system so that all neural controllers (GECNETs) will have the origin as equilibrum point. This corresponds to the quad hovering. We thus need to find such equilibrium point for all GECNETs \n"
   ]
  },
  {
   "cell_type": "code",
   "execution_count": 2,
   "metadata": {},
   "outputs": [],
   "source": [
    "# This pygmo problem is solved by the equilibrium point of the system\n",
    "class my_prob:\n",
    "    def __init__(self, path):\n",
    "        self.Controller = Controller(path)\n",
    "    def fitness(self, x):\n",
    "        return [np.linalg.norm(self.Controller.compute_control(x) - np.array([g0*m, 0]))]\n",
    "    def get_bounds(self):\n",
    "        return ([-1,0,-1,0,0],[1,0,1,0,0])"
   ]
  },
  {
   "cell_type": "code",
   "execution_count": 3,
   "metadata": {},
   "outputs": [],
   "source": [
    "# Here we create a dictionary that we will populate for each network with the stability margins\n",
    "# [path, bias, error in equilibrium, controller, damp, freq, timedelay]\n",
    "data = dict() \n",
    "data[\"N_01_0050\"] = [\"data/softplus/power_bebop_drag_h01_n0050_softplus.pkl\", [], False, False,0.,0.,0.]\n",
    "data[\"N_02_0050\"] = [\"data/softplus/power_bebop_drag_h02_n0050_softplus.pkl\", [], False,False,0.,0.,0.]\n",
    "data[\"N_03_0050\"] = [\"data/softplus/power_bebop_drag_h03_n0050_softplus.pkl\", [], False,False,0.,0.,0.]\n",
    "data[\"N_04_0050\"] = [\"data/softplus/power_bebop_drag_h04_n0050_softplus.pkl\", [], False,False,0.,0.,0.]\n",
    "data[\"N_05_0050\"] = [\"data/softplus/power_bebop_drag_h05_n0050_softplus.pkl\", [], False,False,0.,0.,0.]\n",
    "data[\"N_06_0050\"] = [\"data/softplus/power_bebop_drag_h06_n0050_softplus.pkl\", [], False,False,0.,0.,0.]\n",
    "data[\"N_07_0050\"] = [\"data/softplus/power_bebop_drag_h07_n0050_softplus.pkl\", [], False,False,0.,0.,0.]\n",
    "data[\"N_08_0050\"] = [\"data/softplus/power_bebop_drag_h08_n0050_softplus.pkl\", [], False,False,0.,0.,0.]\n",
    "data[\"N_09_0050\"] = [\"data/softplus/power_bebop_drag_h09_n0050_softplus.pkl\", [], False,False,0.,0.,0.]\n",
    "data[\"N_01_0100\"] = [\"data/softplus/power_bebop_drag_h01_n0100_softplus.pkl\", [], False, False,0.,0.,0.]\n",
    "data[\"N_02_0100\"] = [\"data/softplus/power_bebop_drag_h02_n0100_softplus.pkl\", [], False,False,0.,0.,0.]\n",
    "data[\"N_03_0100\"] = [\"data/softplus/power_bebop_drag_h03_n0100_softplus.pkl\", [], False,False,0.,0.,0.]\n",
    "data[\"N_04_0100\"] = [\"data/softplus/power_bebop_drag_h04_n0100_softplus.pkl\", [], False,False,0.,0.,0.]\n",
    "data[\"N_05_0100\"] = [\"data/softplus/power_bebop_drag_h05_n0100_softplus.pkl\", [], False,False,0.,0.,0.]\n",
    "data[\"N_06_0100\"] = [\"data/softplus/power_bebop_drag_h06_n0100_softplus.pkl\", [], False,False,0.,0.,0.]\n",
    "data[\"N_07_0100\"] = [\"data/softplus/power_bebop_drag_h07_n0100_softplus.pkl\", [], False,False,0.,0.,0.]\n",
    "data[\"N_08_0100\"] = [\"data/softplus/power_bebop_drag_h08_n0100_softplus.pkl\", [], False,False,0.,0.,0.]\n",
    "data[\"N_09_0100\"] = [\"data/softplus/power_bebop_drag_h09_n0100_softplus.pkl\", [], False,False,0.,0.,0.]\n",
    "data[\"N_01_0200\"] = [\"data/softplus/power_bebop_drag_h01_n0200_softplus.pkl\", [], False, False,0.,0.,0.]\n",
    "data[\"N_02_0200\"] = [\"data/softplus/power_bebop_drag_h02_n0200_softplus.pkl\", [], False,False,0.,0.,0.]\n",
    "data[\"N_03_0200\"] = [\"data/softplus/power_bebop_drag_h03_n0200_softplus.pkl\", [], False,False,0.,0.,0.]\n",
    "data[\"N_04_0200\"] = [\"data/softplus/power_bebop_drag_h04_n0200_softplus.pkl\", [], False,False,0.,0.,0.]\n",
    "data[\"N_05_0200\"] = [\"data/softplus/power_bebop_drag_h05_n0200_softplus.pkl\", [], False,False,0.,0.,0.]\n",
    "data[\"N_06_0200\"] = [\"data/softplus/power_bebop_drag_h06_n0200_softplus.pkl\", [], False,False,0.,0.,0.]\n",
    "data[\"N_07_0200\"] = [\"data/softplus/power_bebop_drag_h07_n0200_softplus.pkl\", [], False,False,0.,0.,0.]\n",
    "data[\"N_08_0200\"] = [\"data/softplus/power_bebop_drag_h08_n0200_softplus.pkl\", [], False,False,0.,0.,0.]\n",
    "data[\"N_09_0200\"] = [\"data/softplus/power_bebop_drag_h09_n0200_softplus.pkl\", [], False,False,0.,0.,0.]"
   ]
  },
  {
   "cell_type": "code",
   "execution_count": 4,
   "metadata": {},
   "outputs": [
    {
     "name": "stderr",
     "output_type": "stream",
     "text": [
      " 92% (25 of 27) |######################  | Elapsed Time: 0:01:50 ETA:   0:00:25/usr/lib/python3.7/site-packages/numpy/lib/function_base.py:2048: RuntimeWarning: overflow encountered in ? (vectorized)\n",
      "  outputs = ufunc(*inputs)\n",
      "100% (27 of 27) |########################| Elapsed Time: 0:02:16 Time:  0:02:16\n"
     ]
    }
   ],
   "source": [
    "for N in progressbar.progressbar(data):\n",
    "    udp = my_prob(data[N][0])\n",
    "    prob = pg.problem(udp)\n",
    "    algo = pg.algorithm(pg.de(gen=300, xtol=1e-14, ftol=1e-14))\n",
    "    algo.set_verbosity(1)\n",
    "    pop = pg.population(prob,19)\n",
    "    pop.push_back([0,0,0,0,0])\n",
    "    pop = algo.evolve(pop)\n",
    "    data[N][1] = pop.champion_x\n",
    "    err = np.linalg.norm(udp.Controller.compute_control(pop.champion_x) - np.array([3.81658050, 0]))\n",
    "    data[N][2] = err"
   ]
  },
  {
   "cell_type": "markdown",
   "metadata": {},
   "source": [
    "### 2 - Redefine the Controller so that the origin is the equilibrium point"
   ]
  },
  {
   "cell_type": "code",
   "execution_count": 5,
   "metadata": {},
   "outputs": [],
   "source": [
    "class UnbiasedController(Controller):\n",
    "    def __init__(self, path_to_pickle, bias):\n",
    "        super(UnbiasedController, self).__init__(path_to_pickle)\n",
    "        self.bias = np.array(bias)\n",
    "    def compute_control(self, state):\n",
    "        return super(UnbiasedController, self).compute_control(state + self.bias)"
   ]
  },
  {
   "cell_type": "code",
   "execution_count": 6,
   "metadata": {},
   "outputs": [
    {
     "name": "stderr",
     "output_type": "stream",
     "text": [
      "100% (27 of 27) |########################| Elapsed Time: 0:00:00 Time:  0:00:00\n"
     ]
    }
   ],
   "source": [
    "for N in progressbar.progressbar(data):\n",
    "    data[N][3] = UnbiasedController(data[N][0], data[N][1])\n"
   ]
  },
  {
   "cell_type": "code",
   "execution_count": 7,
   "metadata": {},
   "outputs": [
    {
     "name": "stderr",
     "output_type": "stream",
     "text": [
      "100% (27 of 27) |########################| Elapsed Time: 0:00:00 Time:  0:00:00\n"
     ]
    },
    {
     "name": "stdout",
     "output_type": "stream",
     "text": [
      "N_01_0050 -> u1 =  9.81 , u2 =  6.098203539361968e-15\n",
      "N_02_0050 -> u1 =  9.810000000000032 , u2 =  -1.6227253915590545e-14\n",
      "N_03_0050 -> u1 =  9.810000000000013 , u2 =  -5.52964792011057e-15\n",
      "N_04_0050 -> u1 =  9.810000000000151 , u2 =  2.865633078052987e-14\n",
      "N_05_0050 -> u1 =  9.810000000000032 , u2 =  -1.3437601725785342e-15\n",
      "N_06_0050 -> u1 =  9.810000000019715 , u2 =  4.9437600280893834e-12\n",
      "N_07_0050 -> u1 =  9.809999999999938 , u2 =  3.423758672405075e-14\n",
      "N_08_0050 -> u1 =  9.810000000000018 , u2 =  4.702835343373124e-15\n",
      "N_09_0050 -> u1 =  9.809999999999976 , u2 =  -2.9715813143482706e-15\n",
      "N_01_0100 -> u1 =  9.809999999999995 , u2 =  -6.459676543668635e-16\n",
      "N_02_0100 -> u1 =  9.809999999999963 , u2 =  -1.808774484357567e-14\n",
      "N_03_0100 -> u1 =  9.81000000000003 , u2 =  1.609823385706477e-14\n",
      "N_04_0100 -> u1 =  9.809999999999997 , u2 =  -5.994770652106851e-15\n",
      "N_05_0100 -> u1 =  9.810000000000015 , u2 =  6.098203539361968e-15\n",
      "N_06_0100 -> u1 =  9.810000000000027 , u2 =  -9.948422294292492e-15\n",
      "N_07_0100 -> u1 =  9.809999999999988 , u2 =  2.4470226192563338e-14\n",
      "N_08_0100 -> u1 =  9.809999999999985 , u2 =  -4.832072242333396e-15\n",
      "N_09_0100 -> u1 =  9.809999999999908 , u2 =  -8.366896585287886e-14\n",
      "N_01_0200 -> u1 =  9.809999999999992 , u2 =  -1.5762131183594263e-15\n",
      "N_02_0200 -> u1 =  9.809999999999928 , u2 =  3.098172760007678e-14\n",
      "N_03_0200 -> u1 =  9.809999999999963 , u2 =  2.5865594388552182e-14\n",
      "N_04_0200 -> u1 =  9.810000000000027 , u2 =  -9.250629776080821e-15\n",
      "N_05_0200 -> u1 =  9.809999999999988 , u2 =  8.888939931339657e-15\n",
      "N_06_0200 -> u1 =  9.810000000000223 , u2 =  -1.0055272586795283e-12\n",
      "N_07_0200 -> u1 =  9.810000000000032 , u2 =  2.609674629172609e-15\n",
      "N_08_0200 -> u1 =  9.809999999999466 , u2 =  -7.25062371254026e-14\n",
      "N_09_0200 -> u1 =  9.809999999999592 , u2 =  1.4074895762772321e-13\n"
     ]
    }
   ],
   "source": [
    "for N in progressbar.progressbar(data):\n",
    "    a = data[N][3].compute_control([0,0,0,0,0])\n",
    "    # To check the hovering equilibrium we print down the neurocontroller output at the found equilibrium\n",
    "    print(N, \"->\", \"u1 = \", a[0] / m, \", u2 = \", a[1])"
   ]
  },
  {
   "cell_type": "markdown",
   "metadata": {},
   "source": [
    "### 3 - Simulate the dynamics"
   ]
  },
  {
   "cell_type": "code",
   "execution_count": 8,
   "metadata": {},
   "outputs": [],
   "source": [
    "# This is a simple Runga Kutta fourth order numerical integrator with fixed step.\n",
    "# It is programmed to work both with floats and gduals. It infers the type from the initial conditions.\n",
    "# For creating plots and movies is ok, to do the Taylor map computations the rk45 (adaptive step) should be used.\n",
    "def rk4(f, t0, y0, tf, N):\n",
    "    h = (tf - t0) / N\n",
    "    t = np.arange(t0,tf,h)\n",
    "    y = np.array([[y0[0]] * np.size(y0)] * N)\n",
    "    y[0] = y0\n",
    "    for n in progressbar.progressbar(range(N - 1)):\n",
    "        xi1 = y[n]\n",
    "        f1 = f(t[n], xi1)\n",
    "        xi2 = y[n] + (h/2.)*f1\n",
    "        f2 = f(t[n+1], xi2)\n",
    "        xi3 = y[n] + (h/2.)*f2\n",
    "        f3 = f(t[n+1], xi3)\n",
    "        xi4 = y[n] + h*f3\n",
    "        f4 = f(t[n+1], xi4)\n",
    "        y[n+1] = y[n] + (h/6.)*(f1 + 2*f2 + 2*f3 + f4)\n",
    "    return y\n",
    "\n",
    "\n",
    "    "
   ]
  },
  {
   "cell_type": "code",
   "execution_count": 9,
   "metadata": {},
   "outputs": [],
   "source": [
    "# Our quad dynamics\n",
    "def rhs(t, x, uc):\n",
    "    u = uc.compute_control(x)\n",
    "    return np.array([\n",
    "        x[1],\n",
    "         -0.5*x[1] + (u[0])/m * sin(x[4]),\n",
    "        x[3],\n",
    "        -0.5 *x[3] - g0 + (u[0])/m * cos(x[4]),\n",
    "         u[1],\n",
    "    ])"
   ]
  },
  {
   "cell_type": "markdown",
   "metadata": {},
   "source": [
    "#### Trajectory plot (comparing two networks)"
   ]
  },
  {
   "cell_type": "code",
   "execution_count": 10,
   "metadata": {},
   "outputs": [
    {
     "name": "stderr",
     "output_type": "stream",
     "text": [
      "100% (99 of 99) |########################| Elapsed Time: 0:00:00 Time:  0:00:00\n",
      "100% (99 of 99) |########################| Elapsed Time: 0:00:00 Time:  0:00:00\n"
     ]
    }
   ],
   "source": [
    "# Initial condition for the plots (x,vx,z,vz,theta)\n",
    "IC = np.array([ 4. ,2., 7.,1.,1.4])\n",
    "# Which one?\n",
    "key1 = \"N_01_0050\"\n",
    "key2 = \"N_05_0200\"\n",
    "\n",
    "tf = 5\n",
    "N = 100\n",
    "\n",
    "res1 = rk4(lambda t,x: rhs(t,x,data[key1][3]), 0, IC, tf, N)\n",
    "res2 = rk4(lambda t,x: rhs(t,x,data[key2][3]), 0, IC, tf, N)\n",
    "\n",
    "\n",
    "x1 = res1[:,0]\n",
    "vx1 = res1[:,1]\n",
    "z1 = res1[:,2]\n",
    "vz1 = res1[:,3]\n",
    "theta1 = res1[:,4]\n",
    "x2 = res2[:,0]\n",
    "vx2 = res2[:,1]\n",
    "z2 = res2[:,2]\n",
    "vz2 = res2[:,3]\n",
    "theta2 = res2[:,4]\n",
    "t = np.arange(0, tf, tf/ N)"
   ]
  },
  {
   "cell_type": "code",
   "execution_count": 11,
   "metadata": {},
   "outputs": [
    {
     "data": {
      "image/png": "[encoded data removed]",
      "text/plain": [
       "<Figure size 648x504 with 6 Axes>"
      ]
     },
     "metadata": {
      "needs_background": "light"
     },
     "output_type": "display_data"
    }
   ],
   "source": [
    "# And we plot (statically) the resulting trajectories\n",
    "plt.figure(figsize=(9,7))\n",
    "plt.subplot(231)\n",
    "plt.plot(t, x1)\n",
    "plt.plot(t, x2)\n",
    "plt.xlabel(\"t\")\n",
    "plt.ylabel(\"x\")\n",
    "plt.subplot(232)\n",
    "plt.plot(t, vx1)\n",
    "plt.plot(t, vx2)\n",
    "plt.xlabel(\"t\")\n",
    "plt.ylabel(\"vx\")\n",
    "plt.subplot(233)\n",
    "plt.plot(t, z1)\n",
    "plt.plot(t, z2)\n",
    "plt.xlabel(\"t\")\n",
    "plt.ylabel(\"z\")\n",
    "plt.subplot(234)\n",
    "plt.plot(t, vz1)\n",
    "plt.plot(t, vz2)\n",
    "plt.xlabel(\"t\")\n",
    "plt.ylabel(\"vz\")\n",
    "plt.subplot(235)\n",
    "plt.xlabel(\"t\")\n",
    "plt.ylabel(\"theta\")\n",
    "plt.plot(t, theta1)\n",
    "plt.plot(t, theta2)\n",
    "plt.subplot(236)\n",
    "plt.xlabel(\"t\")\n",
    "plt.ylabel(\"theta\")\n",
    "plt.plot(x1, z1)\n",
    "plt.plot(x2, z2)\n",
    "plt.tight_layout()"
   ]
  },
  {
   "cell_type": "markdown",
   "metadata": {},
   "source": [
    "### 4 - Analyze the System Stability (linear)\n",
    "\n",
    "The system linear stabilty around the equilibrium point (origin) is studied. \n",
    "\n",
    "Write the overall system as:\n",
    "\n",
    "$$\n",
    "\\dot {\\mathbf x} = \\mathbf f(\\mathbf x)\n",
    "$$\n",
    "\n",
    "introduce the variable $\\mathbf x = \\mathbf x_e + \\delta \\mathbf x$. Then:\n",
    "\n",
    "$$\n",
    "\\dot {\\delta \\mathbf x} = \\nabla \\mathbf f \\cdot \\delta \\mathbf x\n",
    "$$\n",
    "\n",
    "The resulting linear system has an analytical solution readily found by:\n",
    "\n",
    "$$\n",
    "\\delta \\mathbf x = e^{\\mathbf A t} \\delta \\mathbf x_0\n",
    "$$\n",
    "\n",
    "Using the eigen decomposition of the matrix $\\mathbf A$ we may write $\\mathbf A\\mathbf V = \\mathbf V\\mathbf \\Lambda$. Where we have introduced the right eigenvector matrix $\\mathbf V = [\\mathbf v_1, \\mathbf v_2, ...]$ and the eigenvalue matrix $\\mathbf \\Lambda$. \n",
    "\n",
    "Eventually the system dynamics is thus expressed as:\n",
    "\n",
    "$$\n",
    "\\delta \\mathbf x = \\mathbf V^{-1} e^{\\mathbf \\Lambda t} \\mathbf V \n",
    "$$\n",
    "\n",
    "and will thus be some linear combination of terms in the form $e^{-\\lambda_i t}$. The real part of the eigenvalues is then determining the asymptotic behavior of the system (needs to be negative to give asymptotic stability and its magnitude regulates the system damping time), while the imaginary part $\\omega_i$ determines the oscillating behaviour introducing a frequency $f = \\frac {\\omega}{2\\pi}$."
   ]
  },
  {
   "cell_type": "code",
   "execution_count": 12,
   "metadata": {},
   "outputs": [],
   "source": [
    "from pyaudi import gdual_double as gdual\n",
    "from pyaudi import sin, cos, sqrt, tanh\n",
    "\n",
    "# Equilibrium point\n",
    "x_e = [gdual(0., name, 1) for name in [\"x\",\"vx\",\"z\",\"vz\",\"th\"]]"
   ]
  },
  {
   "cell_type": "code",
   "execution_count": 13,
   "metadata": {},
   "outputs": [
    {
     "name": "stderr",
     "output_type": "stream",
     "text": [
      " 85% (23 of 27) |####################    | Elapsed Time: 0:00:08 ETA:   0:00:05"
     ]
    },
    {
     "name": "stdout",
     "output_type": "stream",
     "text": [
      "UNSTABLE!\n"
     ]
    },
    {
     "name": "stderr",
     "output_type": "stream",
     "text": [
      "100% (27 of 27) |########################| Elapsed Time: 0:00:16 Time:  0:00:16\n"
     ]
    }
   ],
   "source": [
    "for N in progressbar.progressbar(data):\n",
    "    # We compute the gradient of the rhs\n",
    "    lin_dyn = rhs(0, x_e, data[N][3])\n",
    "    ss = [\"dx\", \"dvx\", \"dz\", \"dvz\", \"dth\"]\n",
    "    _ = [a.extend_symbol_set(ss) for a in lin_dyn]\n",
    "    A = np.eye(5)\n",
    "    for i in range(5):\n",
    "        for  j in range(5):\n",
    "            A[i,j] = lin_dyn[i].get_derivative({ss[j] : 1})\n",
    "            lambdas, eigv = np.linalg.eig(A)\n",
    "    decay = []\n",
    "    freq = []\n",
    "    for i, lam in enumerate(lambdas):\n",
    "        alpha = lam.real\n",
    "        beta = lam.imag\n",
    "        #print(\"Mode \", i+1, \": \", end='', flush=True)\n",
    "        if alpha < 0:\n",
    "            #print(\"STABLE!\", end = '', flush=True)\n",
    "            if beta!=0:\n",
    "                #print(\" - complex\", end='')\n",
    "                #print(\"\\n\\t decay time (10%): \", np.log(0.1)/alpha, \"s\")\n",
    "                #print(\"\\t period: \", 2*np.pi/beta, \"s\", flush=True)\n",
    "                decay.append(np.log(0.1)/alpha)\n",
    "                freq.append(2*np.pi/beta)\n",
    "            else:\n",
    "                #print(\" - real\", end='')\n",
    "                #print(\"\\n\\t decay time (10%): \", np.log(0.1)/alpha, \"s\", flush=True)\n",
    "                decay.append(np.log(0.1)/alpha)\n",
    "                freq.append(0)\n",
    "        else:\n",
    "            print(\"UNSTABLE!\", flush=True)\n",
    "    data[N][4] = max(decay)\n",
    "    data[N][5] = max(freq)\n"
   ]
  },
  {
   "cell_type": "markdown",
   "metadata": {},
   "source": [
    "### 5 - Analyze the System Stability to time delays (linear)\n",
    "\n",
    "The system linear stabilty around the equilibrium point (origin) is studied when a time delay $\\tau$ is introduced in the control input.\n",
    "\n",
    "We write the overall system as:\n",
    "\n",
    "$$\n",
    "\\dot {\\mathbf x} = \\mathbf f(\\mathbf x, \\mathbf x^\\tau)\n",
    "$$\n",
    "\n",
    "and, again considering small displacements around the stable equilibrium point at the origin, we have the representation:\n",
    "\n",
    "$$\n",
    "\\dot {\\delta \\mathbf x} = \\mathbf A \\delta \\mathbf x + \\mathbf B \\delta \\mathbf x^\\tau \n",
    "$$\n",
    "\n",
    "where we have used the notation $\\mathbf x = \\mathbf x(t)$, $\\mathbf x^\\tau = \\mathbf x(t-\\tau)$.\n",
    "\n",
    "This linear system with time delay has the general solution:\n",
    "\n",
    "$$\n",
    "\\delta \\mathbf x(t) = e^{\\Phi t}\\mathbf x_0\n",
    "$$\n",
    "\n",
    "where the matrix $\\mathbf \\Phi$ eigenvalues are obtained from the time-delayed characteristic equation:\n",
    "\n",
    "$$\n",
    "\\left|\\mathbf A + \\mathbf Be^{-\\lambda \\tau} - \\lambda\\mathbf I\\right| = 0\n",
    "$$\n",
    "\n",
    "note that for $\\tau =0$ (no delay) we recover the stability study of the undelayed system.\n"
   ]
  },
  {
   "cell_type": "code",
   "execution_count": 14,
   "metadata": {},
   "outputs": [],
   "source": [
    "# We write the dynamics as a function of both the signal and the delayed signal\n",
    "def rhs_delay(t, x, xtau, uc):\n",
    "    u = uc.compute_control(xtau)\n",
    "    return np.array([\n",
    "        x[1],\n",
    "        - 0.5 * x[1] + u[0]/m * sin(x[4]),\n",
    "        x[3],\n",
    "        -0.5 * x[3] - g0 + u[0]/m * cos(x[4]),\n",
    "         u[1],\n",
    "    ])\n",
    "# This must be zero if x[1] is the crossing of the imaginary axis and x[0] the time delay when it happens.\n",
    "def stability_margin(x, A, B):\n",
    "    # x is [tau, imag], real assumed to be zero\n",
    "    lam = 1j*x[1]\n",
    "    det = np.linalg.det(B*np.exp(-lam*x[0])+A-lam*np.eye(5))\n",
    "    return [det.real, det.imag]"
   ]
  },
  {
   "cell_type": "markdown",
   "metadata": {},
   "source": [
    "# Finding the delay with pade approximant as initial guess"
   ]
  },
  {
   "cell_type": "code",
   "execution_count": 15,
   "metadata": {},
   "outputs": [
    {
     "name": "stdout",
     "output_type": "stream",
     "text": [
      "Pade critical delay: 0.13712979797979796  Critical crossing: 11.114850181119822\n",
      "Corr critical delay: 0.1372621316689068  Critical crossing: 11.150557881072434 \n",
      "\n",
      "Pade critical delay: 0.03416818181818182  Critical crossing: 44.45906088250435\n",
      "Corr critical delay: 0.03402207468381343  Critical crossing: 45.29606219711328 \n",
      "\n",
      "Pade critical delay: 0.02356919191919192  Critical crossing: 64.9070148487418\n",
      "Corr critical delay: 0.023293897406638606  Critical crossing: 66.95299130353536 \n",
      "\n",
      "Pade critical delay: 0.026597474747474748  Critical crossing: 55.879450733506815\n",
      "Corr critical delay: 0.02625115988513536  Critical crossing: 57.54094060471294 \n",
      "\n",
      "Pade critical delay: 0.03719646464646465  Critical crossing: 39.44533054498621\n",
      "Corr critical delay: 0.03698958466019307  Critical crossing: 40.16855657205634 \n",
      "\n",
      "Pade critical delay: 0.03871060606060606  Critical crossing: 37.02531780899353\n",
      "Corr critical delay: 0.03857632718474258  Critical crossing: 37.62341665649075 \n",
      "\n",
      "Pade critical delay: 0.05536616161616162  Critical crossing: 23.583838820228923\n",
      "Corr critical delay: 0.05575360646391765  Critical crossing: 23.685830501059858 \n",
      "\n",
      "Pade critical delay: 0.06899343434343434  Critical crossing: 19.675842794074086\n",
      "Corr critical delay: 0.06865992626284688  Critical crossing: 19.87818349590407 \n",
      "\n",
      "Pade critical delay: 0.09170555555555557  Critical crossing: 13.464120834730256\n",
      "Corr critical delay: 0.09129809173861128  Critical crossing: 13.570446774074698 \n",
      "\n",
      "Pade critical delay: 0.1401580808080808  Critical crossing: 10.777630135681934\n",
      "Corr critical delay: 0.1396166669805614  Critical crossing: 10.84806842279081 \n",
      "\n",
      "Pade critical delay: 0.029625757575757576  Critical crossing: 51.7900512112551\n",
      "Corr critical delay: 0.029307097328132144  Critical crossing: 53.14175118697487 \n",
      "\n",
      "Pade critical delay: 0.022055050505050505  Critical crossing: 68.64975948730483\n",
      "Corr critical delay: 0.022505276283773044  Critical crossing: 69.315094315511 \n",
      "\n",
      "Pade critical delay: 0.03265404040404041  Critical crossing: 45.973757658534204\n",
      "Corr critical delay: 0.03192424012567152  Critical crossing: 47.48722391269811 \n",
      "\n",
      "Pade critical delay: 0.03719646464646465  Critical crossing: 39.68275422789085\n",
      "Corr critical delay: 0.03700388222765402  Critical crossing: 40.3987361243938 \n",
      "\n",
      "Pade critical delay: 0.09170555555555557  Critical crossing: 15.581334526875597\n",
      "Corr critical delay: 0.0911969346596545  Critical crossing: 15.723991812600119 \n",
      "\n",
      "Pade critical delay: 0.07050757575757577  Critical crossing: 18.901501855538953\n",
      "Corr critical delay: 0.07096228728829358  Critical crossing: 18.952867384240996 \n",
      "\n",
      "Pade critical delay: 0.05990858585858586  Critical crossing: 20.496617887626584\n",
      "Corr critical delay: 0.05930266135345339  Critical crossing: 20.75239398140828 \n",
      "\n",
      "Pade critical delay: 0.04779545454545455  Critical crossing: 22.8732903617341\n",
      "Corr critical delay: 0.04733908260535052  Critical crossing: 23.101786682916046 \n",
      "\n",
      "Pade critical delay: 0.13410151515151514  Critical crossing: 11.129997312863068\n",
      "Corr critical delay: 0.1344482865250121  Critical crossing: 11.153743193461104 \n",
      "\n",
      "Pade critical delay: 0.026597474747474748  Critical crossing: 57.5335597011123\n",
      "Corr critical delay: 0.02646926308896044  Critical crossing: 58.901892682194685 \n",
      "\n",
      "Pade critical delay: 0.02356919191919192  Critical crossing: 62.3741982909781\n",
      "Corr critical delay: 0.02373273129168078  Critical crossing: 63.47173951048159 \n",
      "\n",
      "Pade critical delay: 0.05082373737373738  Critical crossing: 29.718866412423303\n",
      "Corr critical delay: 0.05013951443838858  Critical crossing: 30.325033095650674 \n",
      "\n",
      "Pade critical delay: 0.05990858585858586  Critical crossing: 23.680375019526\n",
      "Corr critical delay: 0.06045091199277121  Critical crossing: 23.737688426498075 \n",
      "\n",
      "Pade critical delay: 0.07504999999999999  Critical crossing: 0.0\n",
      "Corr critical delay: 0.07504999999999999  Critical crossing: 0.0 \n",
      "\n",
      "Pade critical delay: 0.04930959595959596  Critical crossing: 27.5196512166906\n",
      "Corr critical delay: 0.04979196515885279  Critical crossing: 27.618455255525806 \n",
      "\n",
      "Pade critical delay: 0.041738888888888895  Critical crossing: 34.06125441175691\n",
      "Corr critical delay: 0.041869069272117115  Critical crossing: 34.41018116798276 \n",
      "\n",
      "Pade critical delay: 0.02356919191919192  Critical crossing: 59.30385931371445\n",
      "Corr critical delay: 0.02397285064819742  Critical crossing: 59.91294727533974 \n",
      "\n"
     ]
    }
   ],
   "source": [
    "# find the maximum allowable delay\n",
    "import numpy as np\n",
    "import scipy.linalg as scl\n",
    "import matplotlib.pyplot as plt\n",
    "import control\n",
    "\n",
    "def find_timedelay_pade(A, B, norder = 5, ntau = 100):\n",
    "    tau_vec = np.linspace(0.0001, 0.15, ntau)\n",
    "    del_crit = 0.\n",
    "    imag_crit = 0.\n",
    "    for ik in range(0,ntau):\n",
    "        # calculate the delay\n",
    "        nump, denp = control.pade(tau_vec[ik], norder)\n",
    "        Ap, Bp, Cp, Dp = control.ssdata(control.tf2ss(nump, denp))\n",
    "        \n",
    "        Ap = scl.block_diag(*((Ap,)*nstate))\n",
    "        Bp = scl.block_diag(*((Bp,)*nstate))\n",
    "        Cp = scl.block_diag(*((Cp,)*nstate))\n",
    "        Dp = scl.block_diag(*((Dp,)*nstate))\n",
    "\n",
    "        # interconnect the system\n",
    "        Ad11 = A+np.matmul(B,Dp)\n",
    "        Ad12 = np.matmul(B,Cp)\n",
    "        Ad1 = np.concatenate((Ad11,Ad12), axis=1)\n",
    "        Ad2 = np.concatenate((Bp,Ap), axis=1)\n",
    "        Ad = np.concatenate((Ad1,Ad2), axis=0)\n",
    "\n",
    "        eig_tmp = np.linalg.eigvals(Ad)\n",
    "\n",
    "        if np.any(np.real(eig_tmp)>0):\n",
    "            del_crit = 0.5*(tau_vec[ik] + tau_vec[ik-1])\n",
    "            imag_crit = np.imag(eig_tmp)[np.real(eig_tmp)>0]\n",
    "            break\n",
    "\n",
    "    return del_crit, abs(imag_crit[0])\n",
    "\n",
    "# do the calculations\n",
    "norder = 5\n",
    "ntau = 100\n",
    "nstate = A.shape[0]\n",
    "for N in data:\n",
    "    # We compute the gradient of rhs_delay w.r.t. x and thus A (we call it Ad to retain A in the notebook)\n",
    "    xtau_e = [gdual(0., name, 1) for name in [\"xt\",\"vxt\",\"zt\",\"vzt\",\"tht\"]]\n",
    "    lin_dyn = rhs_delay(0., x_e, xtau_e, data[N][3])\n",
    "    ss = [\"dx\", \"dvx\", \"dz\", \"dvz\", \"dth\", \"dxt\", \"dvxt\", \"dzt\", \"dvzt\", \"dtht\"]\n",
    "    _ = [a.extend_symbol_set(ss) for a in lin_dyn]\n",
    "    Ad = np.eye(5)\n",
    "    for i in range(5):\n",
    "        for  j in range(5):\n",
    "            if lin_dyn[i].order == 0: # its a constant\n",
    "                Ad[i,j] = 0\n",
    "            else:\n",
    "                Ad[i,j] = lin_dyn[i].get_derivative({ss[j] : 1})\n",
    "    # We compute the gradient of rhs_delay w.r.t. x_tau and thus B (we call it Bu to retain B in the notebook)\n",
    "    #lin_dyn = rhs_delay(0., x_e, xtau_e)\n",
    "    #ss = [\"dx\", \"dvx\", \"dz\", \"dvz\", \"dth\", \"dxt\", \"dvxt\", \"dzt\", \"dvzt\", \"dtht\"]\n",
    "    #_ = [a.extend_symbol_set(ss) for a in lin_dyn]\n",
    "    Bu = np.eye(5)\n",
    "    for i in range(5):\n",
    "        for  j in range(5):\n",
    "            if lin_dyn[i].order == 0: # its a constant\n",
    "                Bu[i,j] = 0\n",
    "            else:\n",
    "                Bu[i,j] = lin_dyn[i].get_derivative({ss[j+5] : 1})\n",
    "    # Initial guess from pade\n",
    "    tau, imags = find_timedelay_pade(Ad, Bu, norder = norder, ntau = ntau)\n",
    "    print('Pade critical delay:', tau, ' Critical crossing:', imags)\n",
    "    from scipy.optimize import root\n",
    "    # Refine the initial guess\n",
    "    sol = root(stability_margin, [tau, imags], (Ad, Bu), tol=1e-10)\n",
    "    print('Corr critical delay:', sol.x[0], ' Critical crossing:', sol.x[1], \"\\n\")\n",
    "    data[N][6] = sol.x[0]\n"
   ]
  },
  {
   "cell_type": "code",
   "execution_count": 16,
   "metadata": {},
   "outputs": [
    {
     "name": "stdout",
     "output_type": "stream",
     "text": [
      "$\\mathcal N^{50}_{1}$ & 2.27s & 2.41s & 0.137s \\\\\n",
      "$\\mathcal N^{50}_{2}$ & 1.66s & 0.00s & 0.034s \\\\\n",
      "$\\mathcal N^{50}_{3}$ & 1.73s & 2.63s & 0.023s \\\\\n",
      "$\\mathcal N^{50}_{4}$ & 1.26s & 2.52s & 0.026s \\\\\n",
      "$\\mathcal N^{50}_{5}$ & 1.19s & 3.32s & 0.037s \\\\\n",
      "$\\mathcal N^{50}_{6}$ & 0.89s & 2.07s & 0.039s \\\\\n",
      "$\\mathcal N^{50}_{7}$ & 0.59s & 2.00s & 0.056s \\\\\n",
      "$\\mathcal N^{50}_{8}$ & 0.71s & 8.34s & 0.069s \\\\\n",
      "$\\mathcal N^{50}_{9}$ & 0.78s & 2.68s & 0.091s \\\\\n",
      "$\\mathcal N^{100}_{1}$ & 1.97s & 2.48s & 0.140s \\\\\n",
      "$\\mathcal N^{100}_{2}$ & 2.09s & 3.80s & 0.029s \\\\\n",
      "$\\mathcal N^{100}_{3}$ & 1.80s & 3.59s & 0.023s \\\\\n",
      "$\\mathcal N^{100}_{4}$ & 2.54s & 0.00s & 0.032s \\\\\n",
      "$\\mathcal N^{100}_{5}$ & 1.52s & 0.00s & 0.037s \\\\\n",
      "$\\mathcal N^{100}_{6}$ & 1.40s & 1.19s & 0.091s \\\\\n",
      "$\\mathcal N^{100}_{7}$ & 1.70s & 1.06s & 0.071s \\\\\n",
      "$\\mathcal N^{100}_{8}$ & 1.25s & 2.18s & 0.059s \\\\\n",
      "$\\mathcal N^{100}_{9}$ & 2.13s & 0.56s & 0.047s \\\\\n",
      "$\\mathcal N^{200}_{1}$ & 1.64s & 2.56s & 0.134s \\\\\n",
      "$\\mathcal N^{200}_{2}$ & 1.94s & 3.17s & 0.026s \\\\\n",
      "$\\mathcal N^{200}_{3}$ & 1.39s & 3.21s & 0.024s \\\\\n",
      "$\\mathcal N^{200}_{4}$ & 2.33s & 3.90s & 0.050s \\\\\n",
      "$\\mathcal N^{200}_{5}$ & 1.18s & 4.37s & 0.060s \\\\\n",
      "$\\mathcal N^{200}_{6}$ & 1.38s & 0.00s & 0.075s \\\\\n",
      "$\\mathcal N^{200}_{7}$ & 1.30s & 1.23s & 0.050s \\\\\n",
      "$\\mathcal N^{200}_{8}$ & 1.39s & 1.30s & 0.042s \\\\\n",
      "$\\mathcal N^{200}_{9}$ & 0.89s & 0.54s & 0.024s \\\\\n"
     ]
    }
   ],
   "source": [
    "# [path, bias, error in equilibrium, controller, damp, freq, timedelay]\n",
    "for N in data:\n",
    "    print(\"$\\mathcal N^{{{}}}_{{{}}}$ & {:0.2f}s & {:0.2f}s & {:0.3f}s \\\\\\\\\".format(int(N[-4:]), int(N[2:4]), data[N][4], data[N][5], data[N][6]))"
   ]
  },
  {
   "cell_type": "code",
   "execution_count": null,
   "metadata": {},
   "outputs": [],
   "source": []
  }
 ],
 "metadata": {
  "kernelspec": {
   "display_name": "Python 3",
   "language": "python",
   "name": "python3"
  },
  "language_info": {
   "codemirror_mode": {
    "name": "ipython",
    "version": 3
   },
   "file_extension": ".py",
   "mimetype": "text/x-python",
   "name": "python",
   "nbconvert_exporter": "python",
   "pygments_lexer": "ipython3",
   "version": "3.7.6"
  }
 },
 "nbformat": 4,
 "nbformat_minor": 2
}
